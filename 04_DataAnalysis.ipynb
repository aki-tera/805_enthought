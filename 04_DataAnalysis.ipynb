{
 "cells": [
  {
   "cell_type": "code",
   "execution_count": 27,
   "metadata": {},
   "outputs": [],
   "source": [
    "with open(\"03test.txt\", \"r\") as f:\n",
    "    data = f.readlines()"
   ]
  },
  {
   "cell_type": "code",
   "execution_count": 58,
   "metadata": {},
   "outputs": [
    {
     "name": "stdout",
     "output_type": "stream",
     "text": [
      "ikura\t32\n",
      "\n",
      "ikura\t32\n",
      "['ikura', '32']\n"
     ]
    },
    {
     "data": {
      "text/plain": [
       "'ikura\\t32\\n'"
      ]
     },
     "execution_count": 58,
     "metadata": {},
     "output_type": "execute_result"
    }
   ],
   "source": [
    "print(data[0])\n",
    "print(data[0].strip())\n",
    "print(data[0].strip().split())\n",
    "data[0]"
   ]
  },
  {
   "cell_type": "code",
   "execution_count": 35,
   "metadata": {
    "scrolled": false
   },
   "outputs": [],
   "source": [
    "transactions = []\n",
    "# 読み出したデータをリストにする\n",
    "for line in data:\n",
    "    # strip()：スペースを削除\n",
    "    # split()：改行やタブで分割\n",
    "    part, count = line.strip().split()\n",
    "    transaction = (part, int(count))\n",
    "    transactions.append(transaction)"
   ]
  },
  {
   "cell_type": "code",
   "execution_count": 29,
   "metadata": {},
   "outputs": [],
   "source": [
    "# defaultdictで空の辞書を作成する\n",
    "from collections import defaultdict\n",
    "inventory = defaultdict(int)"
   ]
  },
  {
   "cell_type": "code",
   "execution_count": 30,
   "metadata": {},
   "outputs": [],
   "source": [
    "# 辞書にkeyが無くても、defaultdictであればエラーなしで登録できる\n",
    "# 通常の辞書では不可\n",
    "for part, count in transactions:\n",
    "    inventory[part] += count"
   ]
  },
  {
   "cell_type": "code",
   "execution_count": 32,
   "metadata": {},
   "outputs": [
    {
     "name": "stdout",
     "output_type": "stream",
     "text": [
      "defaultdict(<class 'int'>, {'ikura': 115, 'kome': 99, 'hamachi': 73, 'tako': 179, 'ika': 180, 'tamago': 178, 'nori': 46, 'wasabi': 111, 'maguro': 71, 'ebi': 98})\n"
     ]
    }
   ],
   "source": [
    "print(inventory)"
   ]
  },
  {
   "cell_type": "code",
   "execution_count": 38,
   "metadata": {},
   "outputs": [
    {
     "name": "stdout",
     "output_type": "stream",
     "text": [
      "ikura     115\n",
      "kome       99\n",
      "hamachi    73\n",
      "tako      179\n",
      "ika       180\n",
      "tamago    178\n",
      "nori       46\n",
      "wasabi    111\n",
      "maguro     71\n",
      "ebi        98\n"
     ]
    }
   ],
   "source": [
    "for item, count in inventory.items():\n",
    "    print(\"{0:10s}{1:3d}\".format(item, count))"
   ]
  },
  {
   "cell_type": "code",
   "execution_count": 44,
   "metadata": {},
   "outputs": [],
   "source": [
    "with open(\"03output.txt\", \"w\") as f:\n",
    "    # 辞書のkeyとvalueを同時に出す場合は、items()を使う\n",
    "    for item, count in inventory.items():\n",
    "        f.write(\"{0:10s}{1:3d}\\n\".format(item, count))"
   ]
  },
  {
   "cell_type": "code",
   "execution_count": 52,
   "metadata": {},
   "outputs": [
    {
     "name": "stdout",
     "output_type": "stream",
     "text": [
      "range(0, 3)\n",
      "[115, 99, 73, 179, 180, 178, 46, 111, 71, 98]\n",
      "['ikura', 'kome', 'hamachi', 'tako', 'ika', 'tamago', 'nori', 'wasabi', 'maguro', 'ebi']\n"
     ]
    }
   ],
   "source": [
    "print(range(len({\"0\":1, \"1\":2, \"5\":9})))\n",
    "print(list(inventory.values()))\n",
    "print(list(inventory.keys()))"
   ]
  },
  {
   "cell_type": "code",
   "execution_count": 53,
   "metadata": {},
   "outputs": [
    {
     "data": {
      "image/png": "[encoded data removed]",
      "text/plain": [
       "<Figure size 432x288 with 1 Axes>"
      ]
     },
     "metadata": {
      "needs_background": "light"
     },
     "output_type": "display_data"
    }
   ],
   "source": [
    "%matplotlib inline\n",
    "\n",
    "import matplotlib.pyplot as plt\n",
    "\n",
    "# bar関数は棒グラフの作成　Xの個数、Yの高さ\n",
    "# 引数はリストにする必要がある\n",
    "# zorderはグラフのレイヤーの番号、グリッドは0、それ以外は3以上にすること（理由不明）\n",
    "plt.bar(range(len(inventory)), list(inventory.values()), zorder=3)\n",
    "# X軸のラベル表示させる、Xの個数、Xのラベル一覧\n",
    "# 引数はリストにする必要がある\n",
    "plt.xticks(range(len(inventory)), list(inventory.keys()), rotation=20)\n",
    "plt.ylabel(\"Item count\")\n",
    "plt.grid(True, zorder=0)\n",
    "plt.show()"
   ]
  },
  {
   "cell_type": "code",
   "execution_count": null,
   "metadata": {},
   "outputs": [],
   "source": []
  }
 ],
 "metadata": {
  "kernelspec": {
   "display_name": "Python 3",
   "language": "python",
   "name": "python3"
  },
  "language_info": {
   "codemirror_mode": {
    "name": "ipython",
    "version": 3
   },
   "file_extension": ".py",
   "mimetype": "text/x-python",
   "name": "python",
   "nbconvert_exporter": "python",
   "pygments_lexer": "ipython3",
   "version": "3.8.6"
  }
 },
 "nbformat": 4,
 "nbformat_minor": 4
}
