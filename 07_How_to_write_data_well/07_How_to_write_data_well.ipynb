{
 "cells": [
  {
   "cell_type": "code",
   "execution_count": 10,
   "metadata": {},
   "outputs": [
    {
     "data": {
      "text/html": [
       "<img src=\"http://bit.ly/3grXDBZ\"/>"
      ],
      "text/plain": [
       "<IPython.core.display.Image object>"
      ]
     },
     "metadata": {},
     "output_type": "display_data"
    }
   ],
   "source": [
    "# 機械判読可能ではないスプレッドシートの例\n",
    "from IPython.display import Image, display\n",
    "display(Image(url=\"http://bit.ly/3grXDBZ\"))"
   ]
  },
  {
   "cell_type": "code",
   "execution_count": 1,
   "metadata": {},
   "outputs": [
    {
     "data": {
      "text/html": [
       "<div>\n",
       "<style scoped>\n",
       "    .dataframe tbody tr th:only-of-type {\n",
       "        vertical-align: middle;\n",
       "    }\n",
       "\n",
       "    .dataframe tbody tr th {\n",
       "        vertical-align: top;\n",
       "    }\n",
       "\n",
       "    .dataframe thead th {\n",
       "        text-align: right;\n",
       "    }\n",
       "</style>\n",
       "<table border=\"1\" class=\"dataframe\">\n",
       "  <thead>\n",
       "    <tr style=\"text-align: right;\">\n",
       "      <th></th>\n",
       "      <th>商品名</th>\n",
       "      <th>数量</th>\n",
       "      <th>単価</th>\n",
       "      <th>金額</th>\n",
       "    </tr>\n",
       "  </thead>\n",
       "  <tbody>\n",
       "    <tr>\n",
       "      <th>0</th>\n",
       "      <td>shio</td>\n",
       "      <td>1</td>\n",
       "      <td>700</td>\n",
       "      <td>700</td>\n",
       "    </tr>\n",
       "    <tr>\n",
       "      <th>1</th>\n",
       "      <td>miso</td>\n",
       "      <td>3</td>\n",
       "      <td>800</td>\n",
       "      <td>2400</td>\n",
       "    </tr>\n",
       "    <tr>\n",
       "      <th>2</th>\n",
       "      <td>shoyu</td>\n",
       "      <td>3</td>\n",
       "      <td>900</td>\n",
       "      <td>2700</td>\n",
       "    </tr>\n",
       "  </tbody>\n",
       "</table>\n",
       "</div>"
      ],
      "text/plain": [
       "     商品名  数量   単価    金額\n",
       "0   shio   1  700   700\n",
       "1   miso   3  800  2400\n",
       "2  shoyu   3  900  2700"
      ]
     },
     "metadata": {},
     "output_type": "display_data"
    },
    {
     "data": {
      "text/html": [
       "<div>\n",
       "<style scoped>\n",
       "    .dataframe tbody tr th:only-of-type {\n",
       "        vertical-align: middle;\n",
       "    }\n",
       "\n",
       "    .dataframe tbody tr th {\n",
       "        vertical-align: top;\n",
       "    }\n",
       "\n",
       "    .dataframe thead th {\n",
       "        text-align: right;\n",
       "    }\n",
       "</style>\n",
       "<table border=\"1\" class=\"dataframe\">\n",
       "  <thead>\n",
       "    <tr style=\"text-align: right;\">\n",
       "      <th></th>\n",
       "      <th>商品名</th>\n",
       "      <th>単価</th>\n",
       "    </tr>\n",
       "  </thead>\n",
       "  <tbody>\n",
       "    <tr>\n",
       "      <th>0</th>\n",
       "      <td>shio</td>\n",
       "      <td>700</td>\n",
       "    </tr>\n",
       "    <tr>\n",
       "      <th>1</th>\n",
       "      <td>miso</td>\n",
       "      <td>800</td>\n",
       "    </tr>\n",
       "    <tr>\n",
       "      <th>2</th>\n",
       "      <td>shoyu</td>\n",
       "      <td>900</td>\n",
       "    </tr>\n",
       "  </tbody>\n",
       "</table>\n",
       "</div>"
      ],
      "text/plain": [
       "     商品名   単価\n",
       "0   shio  700\n",
       "1   miso  800\n",
       "2  shoyu  900"
      ]
     },
     "metadata": {},
     "output_type": "display_data"
    },
    {
     "data": {
      "text/html": [
       "<div>\n",
       "<style scoped>\n",
       "    .dataframe tbody tr th:only-of-type {\n",
       "        vertical-align: middle;\n",
       "    }\n",
       "\n",
       "    .dataframe tbody tr th {\n",
       "        vertical-align: top;\n",
       "    }\n",
       "\n",
       "    .dataframe thead th {\n",
       "        text-align: right;\n",
       "    }\n",
       "</style>\n",
       "<table border=\"1\" class=\"dataframe\">\n",
       "  <thead>\n",
       "    <tr style=\"text-align: right;\">\n",
       "      <th></th>\n",
       "      <th>商品名</th>\n",
       "      <th>数量</th>\n",
       "    </tr>\n",
       "  </thead>\n",
       "  <tbody>\n",
       "    <tr>\n",
       "      <th>0</th>\n",
       "      <td>shio</td>\n",
       "      <td>1</td>\n",
       "    </tr>\n",
       "    <tr>\n",
       "      <th>1</th>\n",
       "      <td>miso</td>\n",
       "      <td>3</td>\n",
       "    </tr>\n",
       "    <tr>\n",
       "      <th>2</th>\n",
       "      <td>shoyu</td>\n",
       "      <td>3</td>\n",
       "    </tr>\n",
       "  </tbody>\n",
       "</table>\n",
       "</div>"
      ],
      "text/plain": [
       "     商品名  数量\n",
       "0   shio   1\n",
       "1   miso   3\n",
       "2  shoyu   3"
      ]
     },
     "metadata": {},
     "output_type": "display_data"
    }
   ],
   "source": [
    "# 第一正規化の例\n",
    "import pandas as pd\n",
    "df = pd.DataFrame({\"商品名\": [\"shio\", \"miso\", \"shoyu\"], \"数量\": [1,3,3], \"単価\": [700, 800, 900]})\n",
    "df[\"金額\"] = df[\"単価\"]*df[\"数量\"]\n",
    "\n",
    "display(df)\n",
    "display(df[[\"商品名\", \"単価\"]], df[[\"商品名\", \"数量\"]])"
   ]
  },
  {
   "cell_type": "code",
   "execution_count": 2,
   "metadata": {},
   "outputs": [
    {
     "data": {
      "text/html": [
       "<div>\n",
       "<style scoped>\n",
       "    .dataframe tbody tr th:only-of-type {\n",
       "        vertical-align: middle;\n",
       "    }\n",
       "\n",
       "    .dataframe tbody tr th {\n",
       "        vertical-align: top;\n",
       "    }\n",
       "\n",
       "    .dataframe thead th {\n",
       "        text-align: right;\n",
       "    }\n",
       "</style>\n",
       "<table border=\"1\" class=\"dataframe\">\n",
       "  <thead>\n",
       "    <tr style=\"text-align: right;\">\n",
       "      <th></th>\n",
       "      <th>商品名</th>\n",
       "      <th>variable</th>\n",
       "      <th>value</th>\n",
       "    </tr>\n",
       "  </thead>\n",
       "  <tbody>\n",
       "    <tr>\n",
       "      <th>0</th>\n",
       "      <td>shio</td>\n",
       "      <td>数量</td>\n",
       "      <td>1</td>\n",
       "    </tr>\n",
       "    <tr>\n",
       "      <th>1</th>\n",
       "      <td>miso</td>\n",
       "      <td>数量</td>\n",
       "      <td>3</td>\n",
       "    </tr>\n",
       "    <tr>\n",
       "      <th>2</th>\n",
       "      <td>shoyu</td>\n",
       "      <td>数量</td>\n",
       "      <td>3</td>\n",
       "    </tr>\n",
       "    <tr>\n",
       "      <th>3</th>\n",
       "      <td>shio</td>\n",
       "      <td>単価</td>\n",
       "      <td>700</td>\n",
       "    </tr>\n",
       "    <tr>\n",
       "      <th>4</th>\n",
       "      <td>miso</td>\n",
       "      <td>単価</td>\n",
       "      <td>800</td>\n",
       "    </tr>\n",
       "    <tr>\n",
       "      <th>5</th>\n",
       "      <td>shoyu</td>\n",
       "      <td>単価</td>\n",
       "      <td>900</td>\n",
       "    </tr>\n",
       "    <tr>\n",
       "      <th>6</th>\n",
       "      <td>shio</td>\n",
       "      <td>金額</td>\n",
       "      <td>700</td>\n",
       "    </tr>\n",
       "    <tr>\n",
       "      <th>7</th>\n",
       "      <td>miso</td>\n",
       "      <td>金額</td>\n",
       "      <td>2400</td>\n",
       "    </tr>\n",
       "    <tr>\n",
       "      <th>8</th>\n",
       "      <td>shoyu</td>\n",
       "      <td>金額</td>\n",
       "      <td>2700</td>\n",
       "    </tr>\n",
       "  </tbody>\n",
       "</table>\n",
       "</div>"
      ],
      "text/plain": [
       "     商品名 variable  value\n",
       "0   shio       数量      1\n",
       "1   miso       数量      3\n",
       "2  shoyu       数量      3\n",
       "3   shio       単価    700\n",
       "4   miso       単価    800\n",
       "5  shoyu       単価    900\n",
       "6   shio       金額    700\n",
       "7   miso       金額   2400\n",
       "8  shoyu       金額   2700"
      ]
     },
     "execution_count": 2,
     "metadata": {},
     "output_type": "execute_result"
    }
   ],
   "source": [
    "# Example of pandas melt and wide_to_long\n",
    "pd.melt(df, id_vars=[\"商品名\"])"
   ]
  },
  {
   "cell_type": "code",
   "execution_count": 3,
   "metadata": {},
   "outputs": [
    {
     "data": {
      "text/html": [
       "<div>\n",
       "<style scoped>\n",
       "    .dataframe tbody tr th:only-of-type {\n",
       "        vertical-align: middle;\n",
       "    }\n",
       "\n",
       "    .dataframe tbody tr th {\n",
       "        vertical-align: top;\n",
       "    }\n",
       "\n",
       "    .dataframe thead th {\n",
       "        text-align: right;\n",
       "    }\n",
       "</style>\n",
       "<table border=\"1\" class=\"dataframe\">\n",
       "  <thead>\n",
       "    <tr style=\"text-align: right;\">\n",
       "      <th></th>\n",
       "      <th>0</th>\n",
       "      <th>1</th>\n",
       "      <th>2</th>\n",
       "      <th>3</th>\n",
       "      <th>4</th>\n",
       "    </tr>\n",
       "  </thead>\n",
       "  <tbody>\n",
       "    <tr>\n",
       "      <th>0</th>\n",
       "      <td>-0.686467</td>\n",
       "      <td>-1.000966</td>\n",
       "      <td>-0.475447</td>\n",
       "      <td>1.173616</td>\n",
       "      <td>0.905426</td>\n",
       "    </tr>\n",
       "    <tr>\n",
       "      <th>1</th>\n",
       "      <td>-0.172494</td>\n",
       "      <td>1.598515</td>\n",
       "      <td>-0.333008</td>\n",
       "      <td>-0.346578</td>\n",
       "      <td>-0.276312</td>\n",
       "    </tr>\n",
       "    <tr>\n",
       "      <th>2</th>\n",
       "      <td>-0.468657</td>\n",
       "      <td>0.588713</td>\n",
       "      <td>-1.918004</td>\n",
       "      <td>0.967623</td>\n",
       "      <td>0.503508</td>\n",
       "    </tr>\n",
       "    <tr>\n",
       "      <th>3</th>\n",
       "      <td>0.515555</td>\n",
       "      <td>0.288683</td>\n",
       "      <td>1.691883</td>\n",
       "      <td>0.895145</td>\n",
       "      <td>-0.789432</td>\n",
       "    </tr>\n",
       "    <tr>\n",
       "      <th>4</th>\n",
       "      <td>0.118174</td>\n",
       "      <td>0.297085</td>\n",
       "      <td>1.442399</td>\n",
       "      <td>-0.622591</td>\n",
       "      <td>1.484606</td>\n",
       "    </tr>\n",
       "    <tr>\n",
       "      <th>...</th>\n",
       "      <td>...</td>\n",
       "      <td>...</td>\n",
       "      <td>...</td>\n",
       "      <td>...</td>\n",
       "      <td>...</td>\n",
       "    </tr>\n",
       "    <tr>\n",
       "      <th>99995</th>\n",
       "      <td>0.110306</td>\n",
       "      <td>1.815229</td>\n",
       "      <td>-0.112383</td>\n",
       "      <td>0.506188</td>\n",
       "      <td>-0.190809</td>\n",
       "    </tr>\n",
       "    <tr>\n",
       "      <th>99996</th>\n",
       "      <td>-1.715490</td>\n",
       "      <td>2.043660</td>\n",
       "      <td>-0.630992</td>\n",
       "      <td>2.487965</td>\n",
       "      <td>0.385190</td>\n",
       "    </tr>\n",
       "    <tr>\n",
       "      <th>99997</th>\n",
       "      <td>1.667312</td>\n",
       "      <td>-1.083833</td>\n",
       "      <td>-0.512907</td>\n",
       "      <td>0.428118</td>\n",
       "      <td>0.856465</td>\n",
       "    </tr>\n",
       "    <tr>\n",
       "      <th>99998</th>\n",
       "      <td>0.817289</td>\n",
       "      <td>-0.532014</td>\n",
       "      <td>-2.103880</td>\n",
       "      <td>1.773951</td>\n",
       "      <td>1.768416</td>\n",
       "    </tr>\n",
       "    <tr>\n",
       "      <th>99999</th>\n",
       "      <td>0.365638</td>\n",
       "      <td>0.133993</td>\n",
       "      <td>-0.715286</td>\n",
       "      <td>0.017871</td>\n",
       "      <td>-0.425670</td>\n",
       "    </tr>\n",
       "  </tbody>\n",
       "</table>\n",
       "<p>100000 rows × 5 columns</p>\n",
       "</div>"
      ],
      "text/plain": [
       "              0         1         2         3         4\n",
       "0     -0.686467 -1.000966 -0.475447  1.173616  0.905426\n",
       "1     -0.172494  1.598515 -0.333008 -0.346578 -0.276312\n",
       "2     -0.468657  0.588713 -1.918004  0.967623  0.503508\n",
       "3      0.515555  0.288683  1.691883  0.895145 -0.789432\n",
       "4      0.118174  0.297085  1.442399 -0.622591  1.484606\n",
       "...         ...       ...       ...       ...       ...\n",
       "99995  0.110306  1.815229 -0.112383  0.506188 -0.190809\n",
       "99996 -1.715490  2.043660 -0.630992  2.487965  0.385190\n",
       "99997  1.667312 -1.083833 -0.512907  0.428118  0.856465\n",
       "99998  0.817289 -0.532014 -2.103880  1.773951  1.768416\n",
       "99999  0.365638  0.133993 -0.715286  0.017871 -0.425670\n",
       "\n",
       "[100000 rows x 5 columns]"
      ]
     },
     "execution_count": 3,
     "metadata": {},
     "output_type": "execute_result"
    }
   ],
   "source": [
    "# Dataフォーマット（csv、hdf5）の違いは読み込み、書き出しに影響する\n",
    "from numpy.random import randn\n",
    "large_table = pd.DataFrame(randn(100000, 5))\n",
    "large_table"
   ]
  },
  {
   "cell_type": "code",
   "execution_count": 4,
   "metadata": {},
   "outputs": [
    {
     "name": "stdout",
     "output_type": "stream",
     "text": [
      "763 ms ± 6.61 ms per loop (mean ± std. dev. of 7 runs, 1 loop each)\n",
      "93.1 ms ± 4.98 ms per loop (mean ± std. dev. of 7 runs, 1 loop each)\n"
     ]
    }
   ],
   "source": [
    "csv_write = %timeit -o -n1 large_table.to_csv(\"test.csv\", mode=\"w\")\n",
    "csv_read  = %timeit -o -n1 df_temp = pd.read_csv(\"test.csv\")"
   ]
  },
  {
   "cell_type": "code",
   "execution_count": 6,
   "metadata": {},
   "outputs": [
    {
     "name": "stdout",
     "output_type": "stream",
     "text": [
      "11.9 s ± 655 ms per loop (mean ± std. dev. of 7 runs, 1 loop each)\n",
      "4.97 s ± 74 ms per loop (mean ± std. dev. of 7 runs, 1 loop each)\n"
     ]
    }
   ],
   "source": [
    "excel_write = %timeit -o -n1 large_table.to_excel(\"test.xlsx\")\n",
    "excel_read  = %timeit -o -n1 df_temp = pd.read_excel(\"test.xlsx\")"
   ]
  },
  {
   "cell_type": "code",
   "execution_count": 10,
   "metadata": {},
   "outputs": [
    {
     "name": "stdout",
     "output_type": "stream",
     "text": [
      "The slowest run took 35.76 times longer than the fastest. This could mean that an intermediate result is being cached.\n",
      "48.2 ms ± 93.8 ms per loop (mean ± std. dev. of 7 runs, 1 loop each)\n",
      "7.08 ms ± 628 µs per loop (mean ± std. dev. of 7 runs, 1 loop each)\n"
     ]
    }
   ],
   "source": [
    "hdf_write = %timeit -o -n1 large_table.to_hdf(\"test.h5\", \"df\", mode=\"w\")\n",
    "hdf_read  = %timeit -o -n1 df_temp = pd.read_hdf(\"test.h5\")"
   ]
  },
  {
   "cell_type": "code",
   "execution_count": 22,
   "metadata": {},
   "outputs": [
    {
     "name": "stdout",
     "output_type": "stream",
     "text": [
      "       excel/hdf  csv/hdf\n",
      "write      246.4     15.8\n",
      "read       702.9     13.2\n"
     ]
    }
   ],
   "source": [
    "data = {\"write\": [excel_write.average/hdf_write.average, csv_write.average/hdf_write.average],\n",
    "        \"read\": [excel_read.average/hdf_read.average, csv_read.average/hdf_read.average],}\n",
    "results = pd.DataFrame.from_dict(data, orient=\"index\", columns=[\"excel/hdf\", \"csv/hdf\"])\n",
    "pd.options.display.float_format = \"{:,.1f}\".format\n",
    "print(results)"
   ]
  },
  {
   "cell_type": "code",
   "execution_count": null,
   "metadata": {},
   "outputs": [],
   "source": []
  }
 ],
 "metadata": {
  "kernelspec": {
   "display_name": "Python 3",
   "language": "python",
   "name": "python3"
  },
  "language_info": {
   "codemirror_mode": {
    "name": "ipython",
    "version": 3
   },
   "file_extension": ".py",
   "mimetype": "text/x-python",
   "name": "python",
   "nbconvert_exporter": "python",
   "pygments_lexer": "ipython3",
   "version": "3.8.6"
  }
 },
 "nbformat": 4,
 "nbformat_minor": 4
}
