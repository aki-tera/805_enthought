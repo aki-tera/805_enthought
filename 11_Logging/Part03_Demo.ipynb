{
 "cells": [
  {
   "cell_type": "code",
   "execution_count": 4,
   "metadata": {},
   "outputs": [],
   "source": [
    "# simple example: Logging\n",
    "\n",
    "import logging\n",
    "\n",
    "\n",
    "def output_result(fname, value):\n",
    "    \n",
    "    results = value^10\n",
    "    \n",
    "    logging.debug(f\"results={results}\")\n",
    "\n",
    "    with open(fname, \"w\")as f:\n",
    "        f.write(str(value) + \", \" + str(results))\n",
    "\n",
    "logging.basicConfig(\n",
    "    level=logging.DEBUG,\n",
    "    format=\"[%(asctime)s:%(name)s:%(levelname)s:%(lineno)s]%(message)s\",\n",
    "    filename=\"test.log\",\n",
    "    filemode=\"w\",\n",
    "    )        \n",
    "        \n",
    "file_name = \"out.txt\"\n",
    "value = 2\n",
    "output_result(file_name, value)"
   ]
  },
  {
   "cell_type": "code",
   "execution_count": 7,
   "metadata": {},
   "outputs": [
    {
     "name": "stdout",
     "output_type": "stream",
     "text": [
      "test\n"
     ]
    }
   ],
   "source": [
    "# simple example: root logger basicConfig\n",
    "\n",
    "import logging\n",
    "\n",
    "logger = logging.getLogger(__name__)\n",
    "logger.setLevel(logging.DEBUG)\n",
    "handler = logging.StreamHandler()\n",
    "handler.setFormatter(logging.Formatter(\"%(asctime)s %(name)s:%(levelname)s,%(message)s\"))\n",
    "logger.addHandler(handler)\n",
    "\n",
    "\n",
    "\n",
    "\n",
    "def output_result(fname, value):\n",
    "    \n",
    "    results = value^10\n",
    "    \n",
    "    logging.debug(f\"results={results}\")\n",
    "\n",
    "    with open(fname, \"w\")as f:\n",
    "        f.write(str(value) + \", \" + str(results))\n",
    "        \n",
    "    print(\"test\")\n",
    "\n",
    "if __name__ == \"__main__\":\n",
    "    file_name = \"out.txt\"\n",
    "    value = 2\n",
    "    output_result(file_name, value)"
   ]
  },
  {
   "cell_type": "code",
   "execution_count": null,
   "metadata": {},
   "outputs": [],
   "source": []
  }
 ],
 "metadata": {
  "kernelspec": {
   "display_name": "Python 3",
   "language": "python",
   "name": "python3"
  },
  "language_info": {
   "codemirror_mode": {
    "name": "ipython",
    "version": 3
   },
   "file_extension": ".py",
   "mimetype": "text/x-python",
   "name": "python",
   "nbconvert_exporter": "python",
   "pygments_lexer": "ipython3",
   "version": "3.8.6"
  }
 },
 "nbformat": 4,
 "nbformat_minor": 4
}
