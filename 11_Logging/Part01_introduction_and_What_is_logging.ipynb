{
 "cells": [
  {
   "cell_type": "code",
   "execution_count": 3,
   "metadata": {},
   "outputs": [],
   "source": [
    "# simple example\n",
    "\n",
    "\n",
    "def output_result(fname, value):\n",
    "    results = value^10\n",
    "    \n",
    "    with open(fname, \"w\")as f:\n",
    "        f.write(str(value) + \", \" + str(results))\n",
    "        \n",
    "        \n",
    "file_name = \"out.txt\"\n",
    "value = 2\n",
    "output_result(file_name, value)"
   ]
  },
  {
   "cell_type": "code",
   "execution_count": 5,
   "metadata": {},
   "outputs": [
    {
     "name": "stdout",
     "output_type": "stream",
     "text": [
      "results=8\n"
     ]
    }
   ],
   "source": [
    "# simple example: if debug\n",
    "\n",
    "debug = True\n",
    "\n",
    "def output_result(fname, value):\n",
    "    # possibly check the value here\n",
    "    \n",
    "    results = value^10\n",
    "    \n",
    "    if debug:\n",
    "        print(f\"results={results}\")\n",
    "    \n",
    "    with open(fname, \"w\")as f:\n",
    "        f.write(str(value) + \", \" + str(results))\n",
    "        \n",
    "        \n",
    "file_name = \"out.txt\"\n",
    "value = 2\n",
    "output_result(file_name, value)"
   ]
  },
  {
   "cell_type": "code",
   "execution_count": 13,
   "metadata": {},
   "outputs": [
    {
     "name": "stderr",
     "output_type": "stream",
     "text": [
      "DEBUG:root:input value=2\n",
      "DEBUG:root:results=8\n",
      "INFO:root:results=8\n",
      "WARNING:root:results=8\n",
      "ERROR:root:results=8\n",
      "CRITICAL:root:results=8\n",
      "INFO:root:Writting results to out.txt\n"
     ]
    }
   ],
   "source": [
    "# simple example: Logging\n",
    "\n",
    "import logging\n",
    "\n",
    "# logging.basicConfig(level=logging.DEBUG)\n",
    "logging.basicConfig(level=logging.INFO)\n",
    "\n",
    "\n",
    "def output_result(fname, value):\n",
    "\n",
    "    logging.debug(f\"input value={value}\")\n",
    "    \n",
    "    results = value^10\n",
    "    \n",
    "    logging.debug(f\"results={results}\")\n",
    "    logging.info(f\"results={results}\")\n",
    "    logging.warning(f\"results={results}\")\n",
    "    logging.error(f\"results={results}\")\n",
    "    logging.critical(f\"results={results}\")\n",
    "    \n",
    "    \n",
    "\n",
    "    with open(fname, \"w\")as f:\n",
    "        f.write(str(value) + \", \" + str(results))\n",
    "\n",
    "        \n",
    "        \n",
    "file_name = \"out.txt\"\n",
    "value = 2\n",
    "output_result(file_name, value)"
   ]
  },
  {
   "cell_type": "code",
   "execution_count": null,
   "metadata": {},
   "outputs": [],
   "source": []
  }
 ],
 "metadata": {
  "kernelspec": {
   "display_name": "Python 3",
   "language": "python",
   "name": "python3"
  },
  "language_info": {
   "codemirror_mode": {
    "name": "ipython",
    "version": 3
   },
   "file_extension": ".py",
   "mimetype": "text/x-python",
   "name": "python",
   "nbconvert_exporter": "python",
   "pygments_lexer": "ipython3",
   "version": "3.8.6"
  }
 },
 "nbformat": 4,
 "nbformat_minor": 4
}
