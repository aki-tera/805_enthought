{
 "cells": [
  {
   "cell_type": "code",
   "execution_count": 10,
   "metadata": {},
   "outputs": [
    {
     "name": "stdout",
     "output_type": "stream",
     "text": [
      "fgbqpuqiuhcyncefsoojtaodkbibohycecbaxffjggrfivrcoenewdgcjzyfuirbbujxkdutncfcnrwkctuvufohfnxxvkeigntd\n"
     ]
    }
   ],
   "source": [
    "import random\n",
    "import string\n",
    "n = 100\n",
    "var_str = \"\".join([random.choice(string.ascii_lowercase)for i in range(n)])\n",
    "print(var_str)"
   ]
  },
  {
   "cell_type": "code",
   "execution_count": 14,
   "metadata": {},
   "outputs": [
    {
     "name": "stdout",
     "output_type": "stream",
     "text": [
      "<class 'dict'>\n",
      "{'f': 9, 'g': 5, 'b': 6, 'q': 2, 'p': 1, 'u': 7, 'i': 5, 'h': 3, 'c': 9, 'y': 3, 'n': 6, 'e': 5, 's': 1, 'o': 6, 'j': 4, 't': 4, 'a': 2, 'd': 4, 'k': 4, 'x': 4, 'r': 4, 'v': 3, 'w': 2, 'z': 1}\n"
     ]
    }
   ],
   "source": [
    "d = {}\n",
    "print(type(d))\n",
    "\n",
    "for key in var_str:\n",
    "    if key not in d:\n",
    "        d[key] = 0\n",
    "    d[key] += 1\n",
    "\n",
    "print(d)"
   ]
  },
  {
   "cell_type": "code",
   "execution_count": 15,
   "metadata": {},
   "outputs": [
    {
     "name": "stdout",
     "output_type": "stream",
     "text": [
      "defaultdict(<class 'int'>, {'f': 9, 'g': 5, 'b': 6, 'q': 2, 'p': 1, 'u': 7, 'i': 5, 'h': 3, 'c': 9, 'y': 3, 'n': 6, 'e': 5, 's': 1, 'o': 6, 'j': 4, 't': 4, 'a': 2, 'd': 4, 'k': 4, 'x': 4, 'r': 4, 'v': 3, 'w': 2, 'z': 1})\n"
     ]
    }
   ],
   "source": [
    "from collections import defaultdict\n",
    "e = defaultdict(int)\n",
    "\n",
    "for key in var_str:\n",
    "    e[key] += 1\n",
    "    \n",
    "print(e)"
   ]
  },
  {
   "cell_type": "code",
   "execution_count": null,
   "metadata": {},
   "outputs": [],
   "source": []
  }
 ],
 "metadata": {
  "kernelspec": {
   "display_name": "Python 3",
   "language": "python",
   "name": "python3"
  },
  "language_info": {
   "codemirror_mode": {
    "name": "ipython",
    "version": 3
   },
   "file_extension": ".py",
   "mimetype": "text/x-python",
   "name": "python",
   "nbconvert_exporter": "python",
   "pygments_lexer": "ipython3",
   "version": "3.8.6"
  }
 },
 "nbformat": 4,
 "nbformat_minor": 4
}
